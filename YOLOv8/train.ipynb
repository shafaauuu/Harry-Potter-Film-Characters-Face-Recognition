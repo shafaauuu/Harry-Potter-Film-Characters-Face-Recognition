{
 "cells": [
  {
   "cell_type": "code",
   "execution_count": 2,
   "metadata": {},
   "outputs": [
    {
     "ename": "SyntaxError",
     "evalue": "invalid syntax (256793969.py, line 2)",
     "output_type": "error",
     "traceback": [
      "\u001b[1;36m  Cell \u001b[1;32mIn[2], line 2\u001b[1;36m\u001b[0m\n\u001b[1;33m    cd ultralytics\u001b[0m\n\u001b[1;37m       ^\u001b[0m\n\u001b[1;31mSyntaxError\u001b[0m\u001b[1;31m:\u001b[0m invalid syntax\n"
     ]
    }
   ],
   "source": [
    "git clone https://github.com/ultralytics/ultralytics\n",
    "cd ultralytics\n",
    "pip install -e ultralytics"
   ]
  },
  {
   "cell_type": "code",
   "execution_count": 1,
   "metadata": {},
   "outputs": [
    {
     "name": "stdout",
     "output_type": "stream",
     "text": [
      "Requirement already satisfied: roboflow in c:\\users\\user\\appdata\\local\\programs\\python\\python311\\lib\\site-packages (1.1.9)\n",
      "Requirement already satisfied: certifi==2023.7.22 in c:\\users\\user\\appdata\\local\\programs\\python\\python311\\lib\\site-packages (from roboflow) (2023.7.22)\n",
      "Requirement already satisfied: chardet==4.0.0 in c:\\users\\user\\appdata\\local\\programs\\python\\python311\\lib\\site-packages (from roboflow) (4.0.0)\n",
      "Requirement already satisfied: cycler==0.10.0 in c:\\users\\user\\appdata\\local\\programs\\python\\python311\\lib\\site-packages (from roboflow) (0.10.0)\n",
      "Requirement already satisfied: idna==2.10 in c:\\users\\user\\appdata\\local\\programs\\python\\python311\\lib\\site-packages (from roboflow) (2.10)\n",
      "Requirement already satisfied: kiwisolver>=1.3.1 in c:\\users\\user\\appdata\\local\\programs\\python\\python311\\lib\\site-packages (from roboflow) (1.4.5)\n",
      "Requirement already satisfied: matplotlib in c:\\users\\user\\appdata\\local\\programs\\python\\python311\\lib\\site-packages (from roboflow) (3.8.1)\n",
      "Requirement already satisfied: numpy>=1.18.5 in c:\\users\\user\\appdata\\local\\programs\\python\\python311\\lib\\site-packages (from roboflow) (1.26.1)\n",
      "Requirement already satisfied: opencv-python-headless==4.8.0.74 in c:\\users\\user\\appdata\\local\\programs\\python\\python311\\lib\\site-packages (from roboflow) (4.8.0.74)\n",
      "Requirement already satisfied: Pillow>=7.1.2 in c:\\users\\user\\appdata\\local\\programs\\python\\python311\\lib\\site-packages (from roboflow) (10.1.0)\n",
      "Requirement already satisfied: pyparsing==2.4.7 in c:\\users\\user\\appdata\\local\\programs\\python\\python311\\lib\\site-packages (from roboflow) (2.4.7)\n",
      "Requirement already satisfied: python-dateutil in c:\\users\\user\\appdata\\local\\programs\\python\\python311\\lib\\site-packages (from roboflow) (2.8.2)\n",
      "Requirement already satisfied: python-dotenv in c:\\users\\user\\appdata\\local\\programs\\python\\python311\\lib\\site-packages (from roboflow) (1.0.0)\n",
      "Requirement already satisfied: requests in c:\\users\\user\\appdata\\local\\programs\\python\\python311\\lib\\site-packages (from roboflow) (2.31.0)\n",
      "Requirement already satisfied: six in c:\\users\\user\\appdata\\local\\programs\\python\\python311\\lib\\site-packages (from roboflow) (1.16.0)\n",
      "Requirement already satisfied: supervision in c:\\users\\user\\appdata\\local\\programs\\python\\python311\\lib\\site-packages (from roboflow) (0.16.0)\n",
      "Requirement already satisfied: urllib3>=1.26.6 in c:\\users\\user\\appdata\\local\\programs\\python\\python311\\lib\\site-packages (from roboflow) (2.0.6)\n",
      "Requirement already satisfied: tqdm>=4.41.0 in c:\\users\\user\\appdata\\local\\programs\\python\\python311\\lib\\site-packages (from roboflow) (4.66.1)\n",
      "Requirement already satisfied: PyYAML>=5.3.1 in c:\\users\\user\\appdata\\local\\programs\\python\\python311\\lib\\site-packages (from roboflow) (6.0.1)\n",
      "Requirement already satisfied: requests-toolbelt in c:\\users\\user\\appdata\\local\\programs\\python\\python311\\lib\\site-packages (from roboflow) (1.0.0)\n",
      "Requirement already satisfied: python-magic in c:\\users\\user\\appdata\\local\\programs\\python\\python311\\lib\\site-packages (from roboflow) (0.4.27)\n",
      "Requirement already satisfied: colorama in c:\\users\\user\\appdata\\local\\programs\\python\\python311\\lib\\site-packages (from tqdm>=4.41.0->roboflow) (0.4.6)\n",
      "Requirement already satisfied: contourpy>=1.0.1 in c:\\users\\user\\appdata\\local\\programs\\python\\python311\\lib\\site-packages (from matplotlib->roboflow) (1.1.0)\n",
      "Requirement already satisfied: fonttools>=4.22.0 in c:\\users\\user\\appdata\\local\\programs\\python\\python311\\lib\\site-packages (from matplotlib->roboflow) (4.42.1)\n",
      "Requirement already satisfied: packaging>=20.0 in c:\\users\\user\\appdata\\local\\programs\\python\\python311\\lib\\site-packages (from matplotlib->roboflow) (23.1)\n",
      "Requirement already satisfied: charset-normalizer<4,>=2 in c:\\users\\user\\appdata\\local\\programs\\python\\python311\\lib\\site-packages (from requests->roboflow) (3.3.0)\n",
      "Requirement already satisfied: scipy<2.0.0,>=1.9.0 in c:\\users\\user\\appdata\\local\\programs\\python\\python311\\lib\\site-packages (from supervision->roboflow) (1.11.3)\n",
      "loading Roboflow workspace...\n",
      "loading Roboflow project...\n",
      "Dependency ultralytics==8.0.196 is required but found version=8.0.216, to fix: `pip install ultralytics==8.0.196`\n"
     ]
    },
    {
     "name": "stderr",
     "output_type": "stream",
     "text": [
      "Downloading Dataset Version Zip in Final-Project-1 to yolov8:: 100%|██████████| 19912/19912 [00:06<00:00, 3266.30it/s]"
     ]
    },
    {
     "name": "stdout",
     "output_type": "stream",
     "text": [
      "\n"
     ]
    },
    {
     "name": "stderr",
     "output_type": "stream",
     "text": [
      "\n",
      "Extracting Dataset Version Zip to Final-Project-1 in yolov8:: 100%|██████████| 916/916 [00:00<00:00, 2185.15it/s]\n"
     ]
    }
   ],
   "source": [
    "!pip install roboflow\n",
    "\n",
    "from roboflow import Roboflow\n",
    "rf = Roboflow(api_key=\"OVsNvlJyRB6P9qIbLkqU\")\n",
    "project = rf.workspace(\"image-processing-paf2z\").project(\"final-project-glutw\")\n",
    "dataset = project.version(1).download(\"yolov8\")"
   ]
  },
  {
   "cell_type": "code",
   "execution_count": 2,
   "metadata": {},
   "outputs": [
    {
     "name": "stdout",
     "output_type": "stream",
     "text": [
      "Downloading https://github.com/ultralytics/assets/releases/download/v0.0.0/yolov8n.pt to 'yolov8n.pt'...\n",
      "Ultralytics YOLOv8.0.216 🚀 Python-3.11.5 torch-2.1.0+cpu CPU (AMD Ryzen 7 4800H with Radeon Graphics)\n",
      "YOLOv8n summary (fused): 168 layers, 3151904 parameters, 0 gradients, 8.7 GFLOPs\n",
      "\n",
      "Downloading https://media.roboflow.com/notebooks/examples/dog.jpeg to 'dog.jpeg'...\n",
      "image 1/1 d:\\Image Processing Final Project\\YOLOv8\\dog.jpeg: 640x384 1 person, 1 car, 1 dog, 107.2ms\n",
      "Speed: 6.1ms preprocess, 107.2ms inference, 11.2ms postprocess per image at shape (1, 3, 640, 384)\n",
      "Results saved to \u001b[1mruns\\detect\\predict\u001b[0m\n",
      "💡 Learn more at https://docs.ultralytics.com/modes/predict\n"
     ]
    },
    {
     "name": "stderr",
     "output_type": "stream",
     "text": [
      "\n",
      "  0%|          | 0.00/6.23M [00:00<?, ?B/s]\n",
      "  3%|▎         | 160k/6.23M [00:00<00:04, 1.58MB/s]\n",
      "  5%|▌         | 320k/6.23M [00:00<00:03, 1.57MB/s]\n",
      "  8%|▊         | 488k/6.23M [00:00<00:03, 1.57MB/s]\n",
      " 10%|█         | 648k/6.23M [00:00<00:04, 1.35MB/s]\n",
      " 12%|█▏        | 784k/6.23M [00:00<00:04, 1.26MB/s]\n",
      " 16%|█▌        | 1.01M/6.23M [00:00<00:03, 1.63MB/s]\n",
      " 20%|█▉        | 1.23M/6.23M [00:01<00:04, 1.13MB/s]\n",
      " 23%|██▎       | 1.46M/6.23M [00:01<00:03, 1.40MB/s]\n",
      " 27%|██▋       | 1.71M/6.23M [00:01<00:02, 1.66MB/s]\n",
      " 32%|███▏      | 1.98M/6.23M [00:01<00:02, 1.93MB/s]\n",
      " 36%|███▌      | 2.23M/6.23M [00:01<00:02, 2.09MB/s]\n",
      " 40%|████      | 2.51M/6.23M [00:01<00:01, 2.28MB/s]\n",
      " 44%|████▍     | 2.74M/6.23M [00:01<00:01, 2.30MB/s]\n",
      " 48%|████▊     | 3.01M/6.23M [00:01<00:01, 2.43MB/s]\n",
      " 53%|█████▎    | 3.27M/6.23M [00:01<00:01, 2.48MB/s]\n",
      " 57%|█████▋    | 3.55M/6.23M [00:01<00:01, 2.56MB/s]\n",
      " 62%|██████▏   | 3.85M/6.23M [00:02<00:00, 2.69MB/s]\n",
      " 66%|██████▋   | 4.13M/6.23M [00:02<00:00, 2.74MB/s]\n",
      " 71%|███████   | 4.40M/6.23M [00:02<00:00, 2.72MB/s]\n",
      " 75%|███████▍  | 4.66M/6.23M [00:02<00:00, 2.68MB/s]\n",
      " 79%|███████▉  | 4.95M/6.23M [00:02<00:00, 2.69MB/s]\n",
      " 83%|████████▎ | 5.20M/6.23M [00:02<00:00, 2.59MB/s]\n",
      " 88%|████████▊ | 5.45M/6.23M [00:02<00:00, 2.45MB/s]\n",
      " 91%|█████████▏| 5.70M/6.23M [00:02<00:00, 2.36MB/s]\n",
      " 95%|█████████▌| 5.93M/6.23M [00:02<00:00, 2.28MB/s]\n",
      " 99%|█████████▉| 6.20M/6.23M [00:03<00:00, 2.39MB/s]\n",
      "100%|██████████| 6.23M/6.23M [00:03<00:00, 2.14MB/s]\n",
      "\n",
      "  0%|          | 0.00/104k [00:00<?, ?B/s]\n",
      "100%|██████████| 104k/104k [00:00<00:00, 4.47MB/s]\n"
     ]
    }
   ],
   "source": [
    "!yolo task=detect mode=predict model=yolov8n.pt conf=0.25 source='https://media.roboflow.com/notebooks/examples/dog.jpeg'"
   ]
  },
  {
   "cell_type": "code",
   "execution_count": 3,
   "metadata": {},
   "outputs": [
    {
     "name": "stdout",
     "output_type": "stream",
     "text": [
      "\n",
      "Found https://media.roboflow.com/notebooks/examples/dog.jpeg locally at dog.jpeg\n",
      "image 1/1 d:\\Image Processing Final Project\\YOLOv8\\dog.jpeg: 640x384 1 person, 1 car, 1 dog, 127.4ms\n",
      "Speed: 0.0ms preprocess, 127.4ms inference, 0.0ms postprocess per image at shape (1, 3, 640, 384)\n"
     ]
    },
    {
     "data": {
      "text/plain": [
       "[ultralytics.engine.results.Results object with attributes:\n",
       " \n",
       " boxes: ultralytics.engine.results.Boxes object\n",
       " keypoints: None\n",
       " masks: None\n",
       " names: {0: 'person', 1: 'bicycle', 2: 'car', 3: 'motorcycle', 4: 'airplane', 5: 'bus', 6: 'train', 7: 'truck', 8: 'boat', 9: 'traffic light', 10: 'fire hydrant', 11: 'stop sign', 12: 'parking meter', 13: 'bench', 14: 'bird', 15: 'cat', 16: 'dog', 17: 'horse', 18: 'sheep', 19: 'cow', 20: 'elephant', 21: 'bear', 22: 'zebra', 23: 'giraffe', 24: 'backpack', 25: 'umbrella', 26: 'handbag', 27: 'tie', 28: 'suitcase', 29: 'frisbee', 30: 'skis', 31: 'snowboard', 32: 'sports ball', 33: 'kite', 34: 'baseball bat', 35: 'baseball glove', 36: 'skateboard', 37: 'surfboard', 38: 'tennis racket', 39: 'bottle', 40: 'wine glass', 41: 'cup', 42: 'fork', 43: 'knife', 44: 'spoon', 45: 'bowl', 46: 'banana', 47: 'apple', 48: 'sandwich', 49: 'orange', 50: 'broccoli', 51: 'carrot', 52: 'hot dog', 53: 'pizza', 54: 'donut', 55: 'cake', 56: 'chair', 57: 'couch', 58: 'potted plant', 59: 'bed', 60: 'dining table', 61: 'toilet', 62: 'tv', 63: 'laptop', 64: 'mouse', 65: 'remote', 66: 'keyboard', 67: 'cell phone', 68: 'microwave', 69: 'oven', 70: 'toaster', 71: 'sink', 72: 'refrigerator', 73: 'book', 74: 'clock', 75: 'vase', 76: 'scissors', 77: 'teddy bear', 78: 'hair drier', 79: 'toothbrush'}\n",
       " orig_img: array([[[202, 157, 120],\n",
       "         [202, 157, 120],\n",
       "         [202, 157, 120],\n",
       "         ...,\n",
       "         [199, 161, 129],\n",
       "         [198, 160, 128],\n",
       "         [198, 160, 128]],\n",
       " \n",
       "        [[201, 156, 119],\n",
       "         [201, 156, 119],\n",
       "         [201, 156, 119],\n",
       "         ...,\n",
       "         [199, 161, 129],\n",
       "         [199, 161, 129],\n",
       "         [198, 160, 128]],\n",
       " \n",
       "        [[201, 156, 119],\n",
       "         [201, 156, 119],\n",
       "         [201, 156, 119],\n",
       "         ...,\n",
       "         [200, 162, 130],\n",
       "         [199, 161, 129],\n",
       "         [199, 161, 129]],\n",
       " \n",
       "        ...,\n",
       " \n",
       "        [[202, 204, 205],\n",
       "         [220, 222, 223],\n",
       "         [233, 235, 236],\n",
       "         ...,\n",
       "         [109, 124, 150],\n",
       "         [112, 126, 154],\n",
       "         [106, 123, 150]],\n",
       " \n",
       "        [[197, 199, 200],\n",
       "         [225, 227, 228],\n",
       "         [220, 222, 223],\n",
       "         ...,\n",
       "         [106, 121, 147],\n",
       "         [105, 119, 147],\n",
       "         [105, 121, 150]],\n",
       " \n",
       "        [[208, 210, 211],\n",
       "         [194, 196, 197],\n",
       "         [221, 223, 224],\n",
       "         ...,\n",
       "         [103, 118, 144],\n",
       "         [106, 120, 148],\n",
       "         [118, 134, 163]]], dtype=uint8)\n",
       " orig_shape: (1280, 720)\n",
       " path: 'd:\\\\Image Processing Final Project\\\\YOLOv8\\\\dog.jpeg'\n",
       " probs: None\n",
       " save_dir: None\n",
       " speed: {'preprocess': 0.0, 'inference': 127.41518020629883, 'postprocess': 0.0}]"
      ]
     },
     "execution_count": 3,
     "metadata": {},
     "output_type": "execute_result"
    }
   ],
   "source": [
    "from ultralytics import YOLO\n",
    "\n",
    "model = YOLO('yolov8n.pt')\n",
    "model.predict(\n",
    "   source='https://media.roboflow.com/notebooks/examples/dog.jpeg',\n",
    "   conf=0.25\n",
    ")"
   ]
  },
  {
   "cell_type": "code",
   "execution_count": 4,
   "metadata": {},
   "outputs": [
    {
     "name": "stdout",
     "output_type": "stream",
     "text": [
      "Downloading https://github.com/ultralytics/assets/releases/download/v0.0.0/yolov8s.pt to 'yolov8s.pt'...\n",
      "Ultralytics YOLOv8.0.216 🚀 Python-3.11.5 torch-2.1.0+cpu CPU (AMD Ryzen 7 4800H with Radeon Graphics)\n",
      "\u001b[34m\u001b[1mengine\\trainer: \u001b[0mtask=detect, mode=train, model=yolov8s.pt, data=Final-Project-1/data.yaml, epochs=35, patience=50, batch=16, imgsz=640, save=True, save_period=-1, cache=False, device=None, workers=8, project=None, name=train, exist_ok=False, pretrained=True, optimizer=auto, verbose=True, seed=0, deterministic=True, single_cls=False, rect=False, cos_lr=False, close_mosaic=10, resume=False, amp=True, fraction=1.0, profile=False, freeze=None, overlap_mask=True, mask_ratio=4, dropout=0.0, val=True, split=val, save_json=False, save_hybrid=False, conf=None, iou=0.7, max_det=300, half=False, dnn=False, plots=True, source=None, show=False, save_txt=False, save_conf=False, save_crop=False, show_labels=True, show_conf=True, vid_stride=1, stream_buffer=False, line_width=None, visualize=False, augment=False, agnostic_nms=False, classes=None, retina_masks=False, boxes=True, format=torchscript, keras=False, optimize=False, int8=False, dynamic=False, simplify=False, opset=None, workspace=4, nms=False, lr0=0.01, lrf=0.01, momentum=0.937, weight_decay=0.0005, warmup_epochs=3.0, warmup_momentum=0.8, warmup_bias_lr=0.1, box=7.5, cls=0.5, dfl=1.5, pose=12.0, kobj=1.0, label_smoothing=0.0, nbs=64, hsv_h=0.015, hsv_s=0.7, hsv_v=0.4, degrees=0.0, translate=0.1, scale=0.5, shear=0.0, perspective=0.0, flipud=0.0, fliplr=0.5, mosaic=1.0, mixup=0.0, copy_paste=0.0, cfg=None, tracker=botsort.yaml, save_dir=runs\\detect\\train\n"
     ]
    },
    {
     "name": "stderr",
     "output_type": "stream",
     "text": [
      "\n",
      "  0%|          | 0.00/21.5M [00:00<?, ?B/s]\n",
      "  1%|▏         | 280k/21.5M [00:00<00:07, 2.84MB/s]\n",
      "  3%|▎         | 560k/21.5M [00:00<00:08, 2.63MB/s]\n",
      "  4%|▎         | 824k/21.5M [00:00<00:09, 2.34MB/s]\n",
      "  5%|▌         | 1.09M/21.5M [00:00<00:08, 2.52MB/s]\n",
      "  6%|▌         | 1.34M/21.5M [00:00<00:08, 2.53MB/s]\n",
      "  7%|▋         | 1.59M/21.5M [00:00<00:08, 2.46MB/s]\n",
      "  8%|▊         | 1.83M/21.5M [00:00<00:08, 2.31MB/s]\n",
      " 10%|▉         | 2.05M/21.5M [00:00<00:09, 2.10MB/s]\n",
      " 11%|█         | 2.32M/21.5M [00:01<00:09, 2.22MB/s]\n",
      " 12%|█▏        | 2.54M/21.5M [00:01<00:09, 2.16MB/s]\n",
      " 13%|█▎        | 2.79M/21.5M [00:01<00:08, 2.27MB/s]\n",
      " 14%|█▍        | 3.02M/21.5M [00:01<00:08, 2.32MB/s]\n",
      " 15%|█▌        | 3.30M/21.5M [00:01<00:07, 2.43MB/s]\n",
      " 16%|█▋        | 3.54M/21.5M [00:01<00:07, 2.43MB/s]\n",
      " 18%|█▊        | 3.79M/21.5M [00:01<00:07, 2.46MB/s]\n",
      " 19%|█▉        | 4.05M/21.5M [00:01<00:07, 2.54MB/s]\n",
      " 20%|██        | 4.32M/21.5M [00:01<00:06, 2.60MB/s]\n",
      " 21%|██▏       | 4.60M/21.5M [00:01<00:06, 2.67MB/s]\n",
      " 23%|██▎       | 4.91M/21.5M [00:02<00:06, 2.76MB/s]\n",
      " 24%|██▍       | 5.20M/21.5M [00:02<00:06, 2.81MB/s]\n",
      " 25%|██▌       | 5.47M/21.5M [00:02<00:06, 2.71MB/s]\n",
      " 27%|██▋       | 5.73M/21.5M [00:02<00:06, 2.65MB/s]\n",
      " 28%|██▊       | 5.99M/21.5M [00:02<00:06, 2.58MB/s]\n",
      " 29%|██▉       | 6.24M/21.5M [00:02<00:06, 2.45MB/s]\n",
      " 30%|███       | 6.51M/21.5M [00:02<00:06, 2.52MB/s]\n",
      " 31%|███▏      | 6.77M/21.5M [00:02<00:06, 2.56MB/s]\n",
      " 33%|███▎      | 7.02M/21.5M [00:03<00:06, 2.29MB/s]\n",
      " 34%|███▍      | 7.29M/21.5M [00:03<00:06, 2.40MB/s]\n",
      " 35%|███▌      | 7.57M/21.5M [00:03<00:05, 2.51MB/s]\n",
      " 36%|███▋      | 7.84M/21.5M [00:03<00:05, 2.56MB/s]\n",
      " 38%|███▊      | 8.09M/21.5M [00:03<00:05, 2.50MB/s]\n",
      " 39%|███▉      | 8.37M/21.5M [00:03<00:05, 2.62MB/s]\n",
      " 40%|████      | 8.62M/21.5M [00:03<00:05, 2.63MB/s]\n",
      " 41%|████▏     | 8.91M/21.5M [00:03<00:04, 2.69MB/s]\n",
      " 43%|████▎     | 9.20M/21.5M [00:03<00:04, 2.71MB/s]\n",
      " 44%|████▍     | 9.46M/21.5M [00:03<00:04, 2.69MB/s]\n",
      " 45%|████▌     | 9.76M/21.5M [00:04<00:04, 2.74MB/s]\n",
      " 47%|████▋     | 10.0M/21.5M [00:04<00:04, 2.74MB/s]\n",
      " 48%|████▊     | 10.3M/21.5M [00:04<00:04, 2.51MB/s]\n",
      " 49%|████▉     | 10.5M/21.5M [00:04<00:04, 2.41MB/s]\n",
      " 50%|█████     | 10.8M/21.5M [00:04<00:04, 2.37MB/s]\n",
      " 51%|█████▏    | 11.0M/21.5M [00:04<00:04, 2.31MB/s]\n",
      " 52%|█████▏    | 11.3M/21.5M [00:04<00:05, 2.11MB/s]\n",
      " 53%|█████▎    | 11.5M/21.5M [00:04<00:06, 1.75MB/s]\n",
      " 54%|█████▍    | 11.7M/21.5M [00:05<00:05, 1.73MB/s]\n",
      " 55%|█████▍    | 11.8M/21.5M [00:05<00:05, 1.74MB/s]\n",
      " 56%|█████▌    | 12.0M/21.5M [00:05<00:05, 1.77MB/s]\n",
      " 57%|█████▋    | 12.2M/21.5M [00:05<00:05, 1.80MB/s]\n",
      " 57%|█████▋    | 12.4M/21.5M [00:05<00:05, 1.69MB/s]\n",
      " 58%|█████▊    | 12.6M/21.5M [00:05<00:05, 1.82MB/s]\n",
      " 59%|█████▉    | 12.8M/21.5M [00:05<00:04, 1.94MB/s]\n",
      " 61%|██████    | 13.1M/21.5M [00:05<00:03, 2.22MB/s]\n",
      " 62%|██████▏   | 13.3M/21.5M [00:05<00:03, 2.31MB/s]\n",
      " 63%|██████▎   | 13.6M/21.5M [00:06<00:03, 2.29MB/s]\n",
      " 64%|██████▍   | 13.8M/21.5M [00:06<00:03, 2.24MB/s]\n",
      " 65%|██████▌   | 14.0M/21.5M [00:06<00:03, 2.29MB/s]\n",
      " 66%|██████▋   | 14.3M/21.5M [00:06<00:03, 2.40MB/s]\n",
      " 67%|██████▋   | 14.5M/21.5M [00:06<00:03, 2.34MB/s]\n",
      " 69%|██████▊   | 14.8M/21.5M [00:06<00:03, 2.22MB/s]\n",
      " 70%|██████▉   | 15.0M/21.5M [00:06<00:03, 2.17MB/s]\n",
      " 71%|███████   | 15.3M/21.5M [00:06<00:02, 2.38MB/s]\n",
      " 72%|███████▏  | 15.5M/21.5M [00:06<00:02, 2.16MB/s]\n",
      " 73%|███████▎  | 15.7M/21.5M [00:07<00:02, 2.12MB/s]\n",
      " 74%|███████▍  | 16.0M/21.5M [00:07<00:02, 2.23MB/s]\n",
      " 75%|███████▌  | 16.2M/21.5M [00:07<00:02, 2.26MB/s]\n",
      " 76%|███████▋  | 16.5M/21.5M [00:07<00:02, 2.40MB/s]\n",
      " 78%|███████▊  | 16.7M/21.5M [00:07<00:01, 2.53MB/s]\n",
      " 79%|███████▉  | 17.0M/21.5M [00:07<00:01, 2.65MB/s]\n",
      " 80%|████████  | 17.3M/21.5M [00:07<00:01, 2.76MB/s]\n",
      " 82%|████████▏ | 17.6M/21.5M [00:07<00:01, 2.79MB/s]\n",
      " 83%|████████▎ | 17.9M/21.5M [00:07<00:01, 2.43MB/s]\n",
      " 84%|████████▍ | 18.1M/21.5M [00:08<00:02, 1.73MB/s]\n",
      " 85%|████████▌ | 18.3M/21.5M [00:08<00:02, 1.61MB/s]\n",
      " 86%|████████▌ | 18.5M/21.5M [00:08<00:02, 1.47MB/s]\n",
      " 87%|████████▋ | 18.7M/21.5M [00:08<00:02, 1.42MB/s]\n",
      " 87%|████████▋ | 18.8M/21.5M [00:08<00:02, 1.11MB/s]\n",
      " 88%|████████▊ | 18.9M/21.5M [00:08<00:02, 1.15MB/s]\n",
      " 89%|████████▉ | 19.1M/21.5M [00:09<00:01, 1.35MB/s]\n",
      " 90%|█████████ | 19.4M/21.5M [00:09<00:01, 1.63MB/s]\n",
      " 91%|█████████ | 19.6M/21.5M [00:09<00:01, 1.67MB/s]\n",
      " 92%|█████████▏| 19.8M/21.5M [00:09<00:00, 1.88MB/s]\n",
      " 93%|█████████▎| 20.0M/21.5M [00:09<00:00, 1.88MB/s]\n",
      " 94%|█████████▍| 20.2M/21.5M [00:09<00:00, 1.90MB/s]\n",
      " 95%|█████████▍| 20.4M/21.5M [00:09<00:00, 1.79MB/s]\n",
      " 96%|█████████▌| 20.6M/21.5M [00:09<00:00, 1.70MB/s]\n",
      " 96%|█████████▋| 20.8M/21.5M [00:10<00:00, 1.50MB/s]\n",
      " 97%|█████████▋| 20.9M/21.5M [00:10<00:00, 1.62MB/s]\n",
      " 98%|█████████▊| 21.2M/21.5M [00:10<00:00, 1.78MB/s]\n",
      "100%|█████████▉| 21.4M/21.5M [00:10<00:00, 2.00MB/s]\n",
      "100%|██████████| 21.5M/21.5M [00:10<00:00, 2.17MB/s]\n",
      "Traceback (most recent call last):\n",
      "  File \"d:\\image processing final project\\yolov8\\ultralytics\\ultralytics\\engine\\trainer.py\", line 116, in __init__\n",
      "    self.data = check_det_dataset(self.args.data)\n",
      "                ^^^^^^^^^^^^^^^^^^^^^^^^^^^^^^^^^\n",
      "  File \"d:\\image processing final project\\yolov8\\ultralytics\\ultralytics\\data\\utils.py\", line 313, in check_det_dataset\n",
      "    raise FileNotFoundError(m)\n",
      "FileNotFoundError: \n",
      "Dataset 'Final-Project-1/data.yaml' images not found ⚠️, missing path 'D:\\PYTHON\\opencv\\YOLOv5\\yolov5\\datasets\\Final-Project-1\\Final-Project-1\\valid\\images'\n",
      "Note dataset download directory is 'D:\\PYTHON\\opencv\\YOLOv5\\yolov5\\datasets'. You can update this in 'C:\\Users\\user\\AppData\\Roaming\\Ultralytics\\settings.yaml'\n",
      "\n",
      "The above exception was the direct cause of the following exception:\n",
      "\n",
      "Traceback (most recent call last):\n",
      "  File \"\\\\?\\C:\\Users\\user\\AppData\\Local\\Programs\\Python\\Python311\\Scripts\\yolo-script.py\", line 33, in <module>\n",
      "    sys.exit(load_entry_point('ultralytics', 'console_scripts', 'yolo')())\n",
      "             ^^^^^^^^^^^^^^^^^^^^^^^^^^^^^^^^^^^^^^^^^^^^^^^^^^^^^^^^^^^^\n",
      "  File \"d:\\image processing final project\\yolov8\\ultralytics\\ultralytics\\cfg\\__init__.py\", line 445, in entrypoint\n",
      "    getattr(model, mode)(**overrides)  # default args from model\n",
      "    ^^^^^^^^^^^^^^^^^^^^^^^^^^^^^^^^^\n",
      "  File \"d:\\image processing final project\\yolov8\\ultralytics\\ultralytics\\engine\\model.py\", line 333, in train\n",
      "    self.trainer = (trainer or self._smart_load('trainer'))(overrides=args, _callbacks=self.callbacks)\n",
      "                   ^^^^^^^^^^^^^^^^^^^^^^^^^^^^^^^^^^^^^^^^^^^^^^^^^^^^^^^^^^^^^^^^^^^^^^^^^^^^^^^^^^^\n",
      "  File \"d:\\image processing final project\\yolov8\\ultralytics\\ultralytics\\engine\\trainer.py\", line 120, in __init__\n",
      "    raise RuntimeError(emojis(f\"Dataset '{clean_url(self.args.data)}' error ❌ {e}\")) from e\n",
      "RuntimeError: Dataset 'Final-Project-1/data.yaml' error  \n",
      "Dataset 'Final-Project-1/data.yaml' images not found , missing path 'D:\\PYTHON\\opencv\\YOLOv5\\yolov5\\datasets\\Final-Project-1\\Final-Project-1\\valid\\images'\n",
      "Note dataset download directory is 'D:\\PYTHON\\opencv\\YOLOv5\\yolov5\\datasets'. You can update this in 'C:\\Users\\user\\AppData\\Roaming\\Ultralytics\\settings.yaml'\n"
     ]
    }
   ],
   "source": [
    "!yolo task=detect mode=train model=yolov8s.pt data=Final-Project-1/data.yaml epochs=35 imgsz=640"
   ]
  }
 ],
 "metadata": {
  "kernelspec": {
   "display_name": "Python 3",
   "language": "python",
   "name": "python3"
  },
  "language_info": {
   "codemirror_mode": {
    "name": "ipython",
    "version": 3
   },
   "file_extension": ".py",
   "mimetype": "text/x-python",
   "name": "python",
   "nbconvert_exporter": "python",
   "pygments_lexer": "ipython3",
   "version": "3.11.5"
  }
 },
 "nbformat": 4,
 "nbformat_minor": 2
}
